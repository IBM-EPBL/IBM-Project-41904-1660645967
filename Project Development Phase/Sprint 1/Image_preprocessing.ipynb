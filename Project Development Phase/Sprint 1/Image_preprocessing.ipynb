{
  "nbformat": 4,
  "nbformat_minor": 0,
  "metadata": {
    "colab": {
      "provenance": [],
      "collapsed_sections": []
    },
    "kernelspec": {
      "name": "python3",
      "display_name": "Python 3"
    },
    "language_info": {
      "name": "python"
    }
  },
  "cells": [
    {
      "cell_type": "code",
      "execution_count": 4,
      "metadata": {
        "id": "_Dkov_hjyjGo"
      },
      "outputs": [],
      "source": [
        "import keras"
      ]
    },
    {
      "cell_type": "code",
      "source": [
        "from keras.preprocessing.image import ImageDataGenerator"
      ],
      "metadata": {
        "id": "SZKrnPv7Aiex"
      },
      "execution_count": 6,
      "outputs": []
    },
    {
      "cell_type": "code",
      "source": [
        "train_datagen = ImageDataGenerator(\n",
        "    rescale=1./255,\n",
        "    shear_range=0.2,\n",
        "    rotation_range=180,\n",
        "    zoom_range=0.2,\n",
        "    horizontal_flip=True)"
      ],
      "metadata": {
        "id": "dy_9cG2GAquH"
      },
      "execution_count": 7,
      "outputs": []
    },
    {
      "cell_type": "code",
      "source": [
        "test_datagen = ImageDataGenerator(\n",
        "    rescale=1./255\n",
        ")\n"
      ],
      "metadata": {
        "id": "Xf4RJg4QAxx-"
      },
      "execution_count": 8,
      "outputs": []
    },
    {
      "cell_type": "code",
      "source": [
        "x_train = train_datagen.flow_from_directory(r'/content/drive/MyDrive/Dataset/Dataset/train_set',\n",
        "                                            target_size=(128,128),\n",
        "                                            batch_size=32,\n",
        "                                            class_mode='binary'\n",
        ")"
      ],
      "metadata": {
        "id": "Zh51dSr2A7D_",
        "colab": {
          "base_uri": "https://localhost:8080/"
        },
        "outputId": "204dcaa4-c993-4cfc-d186-c865d79bd438"
      },
      "execution_count": 9,
      "outputs": [
        {
          "output_type": "stream",
          "name": "stdout",
          "text": [
            "Found 436 images belonging to 2 classes.\n"
          ]
        }
      ]
    },
    {
      "cell_type": "code",
      "source": [
        "x_test = test_datagen.flow_from_directory(r'/content/drive/MyDrive/Dataset/Dataset/test_set',\n",
        "                                              target_size=(128, 128),\n",
        "                                              batch_size=32,\n",
        "                                              class_mode='binary'\n",
        ")"
      ],
      "metadata": {
        "id": "thaKH6__A95u",
        "outputId": "e453bd33-2802-4ecd-81c2-694d69b669f1",
        "colab": {
          "base_uri": "https://localhost:8080/"
        }
      },
      "execution_count": 10,
      "outputs": [
        {
          "output_type": "stream",
          "name": "stdout",
          "text": [
            "Found 121 images belonging to 2 classes.\n"
          ]
        }
      ]
    }
  ]
}